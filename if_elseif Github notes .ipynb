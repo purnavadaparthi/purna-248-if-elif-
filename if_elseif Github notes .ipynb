{
 "cells": [
  {
   "cell_type": "markdown",
   "id": "20c510e8",
   "metadata": {},
   "source": [
    "# 1)  write a python code which accepts a three or more digits number and prints :\n",
    " \n",
    " 'A' if the last two digits of the number is divisible by 7. \n",
    "\n",
    " 'B' if the last two digits of number is divisible by 3.\n",
    "\n",
    "'AB' if the last two digits of the number is divisible by bothe 7 & 3.\n",
    "\n",
    "'Z' if last two digits of number is neither divisible by 7 nor 3."
   ]
  },
  {
   "cell_type": "code",
   "execution_count": 1,
   "id": "71fa1bc2",
   "metadata": {},
   "outputs": [
    {
     "name": "stdout",
     "output_type": "stream",
     "text": [
      "enter the number: 21\n",
      "21 is divisible by 7 and 3\n"
     ]
    }
   ],
   "source": [
    " a=int(input('enter the number: ' ))\n",
    "if a%7==0 :\n",
    "    print(f'{a} is divisible by 7 and 3')\n",
    "elif a%3==0:\n",
    "     print(f'{a} is divisible by 3')\n",
    "elif a%7==0 and a%3==0:\n",
    "    print(f'{a} is divisible by 7 and 3')\n",
    "else:\n",
    "    print(f'{a} is not divisible by 7 and 3')\n",
    "\n",
    "    "
   ]
  },
  {
   "cell_type": "code",
   "execution_count": 3,
   "id": "7be5ac7a",
   "metadata": {},
   "outputs": [
    {
     "name": "stdout",
     "output_type": "stream",
     "text": [
      "enter a three or greater than three digit positive integer342\n",
      "AB\n"
     ]
    }
   ],
   "source": [
    "num = (input('enter a three or greater than three digit positive integer'))\n",
    "\n",
    "if len(num) >= 3 and (num.isdigit()):\n",
    "    \n",
    "    if (int(num[-2:]) % 3 == 0) and (int(num[-2:]) % 7 == 0):\n",
    "        print('AB')\n",
    "    elif (int(num[-2:]) % 3 == 0):\n",
    "        print('B')\n",
    "    elif (int(num[-2:]) % 7 == 0):\n",
    "        print('A')\n",
    "    else:\n",
    "        print('Z')\n",
    "        \n",
    "else:\n",
    "    print('Try entering a three digit or greater than three digit positive integer')"
   ]
  },
  {
   "cell_type": "markdown",
   "id": "d8ec5f5d",
   "metadata": {},
   "source": [
    "###### 2) write a code which accepts an alphabet from user and prints 'vowel' if the the alphabet is an vowel, 'not vowel' if the alphabet is not a vowel"
   ]
  },
  {
   "cell_type": "code",
   "execution_count": 2,
   "id": "064df7fa",
   "metadata": {},
   "outputs": [
    {
     "name": "stdout",
     "output_type": "stream",
     "text": [
      "enter the alphabet: h\n",
      "not vowel\n"
     ]
    }
   ],
   "source": [
    "x=input('enter the alphabet: ' ).lower()\n",
    "if len(x) == 1 and x.isalpha():\n",
    "    \n",
    "    if x in ['a','e','i','o','u']:\n",
    "        print('vowel')\n",
    "    else:\n",
    "        print('not vowel')\n",
    "        \n",
    "else:\n",
    "    print('enter a single alphabet')\n",
    "    "
   ]
  },
  {
   "cell_type": "markdown",
   "id": "af831248",
   "metadata": {},
   "source": [
    "##### 3) write a code to accepts four sides of an quadrilateral and print if it is a square or rectangle or an irregular quadrilateral."
   ]
  },
  {
   "cell_type": "code",
   "execution_count": 4,
   "id": "d8c3c108",
   "metadata": {},
   "outputs": [
    {
     "name": "stdout",
     "output_type": "stream",
     "text": [
      "enter the length of side-1: 3\n",
      "enter the length of side-2: 3\n",
      "enter the length of side-3: 3\n",
      "enter the length of side-4: 3\n",
      "square\n"
     ]
    }
   ],
   "source": [
    "a = int(input('enter the length of side-1: '))\n",
    "b = int(input('enter the length of side-2: '))\n",
    "c = int(input('enter the length of side-3: '))\n",
    "d = int(input('enter the length of side-4: '))\n",
    "\n",
    "if a == b == c == d:\n",
    "    print('square')\n",
    "elif ((a == b) and (c == d)) or ((a == c) and (b == d)) or ((a == d) and (c == b)):\n",
    "    print('rectangle')\n",
    "else:\n",
    "    print('irregular quad')\n"
   ]
  },
  {
   "cell_type": "markdown",
   "id": "705b9262",
   "metadata": {},
   "source": [
    "4) write a code to know weather it is vowel and number given is even/odd\n",
    "* vowel and even\n",
    "* vowel and odd\n",
    "* not vowel and even\n",
    "* not vowel and odd"
   ]
  },
  {
   "cell_type": "code",
   "execution_count": 6,
   "id": "7b2e028c",
   "metadata": {},
   "outputs": [
    {
     "name": "stdout",
     "output_type": "stream",
     "text": [
      "enter the number: 32\n",
      "enter the string: e\n",
      "e is vowel and 32 is even\n"
     ]
    }
   ],
   "source": [
    "a = int(input('enter the number: '))\n",
    "x = input('enter the string: ' ).lower()\n",
    "if x in ['a','e','i','o','u'] and a%2==0:\n",
    "    print(f'{x} is vowel and {a} is even' )\n",
    "elif x in ['a','e','i','o','u'] and a%2!=0:\n",
    "    print(f'{x} is  vowel and {a} is odd')\n",
    "elif x not in ['a','e','i','o','u'] and a%2==0:\n",
    "    print (f'{x} is not vowel and {a} is even')\n",
    "elif x not in ['a','e','i','o','u'] and a%2!=0:\n",
    "    print(f'{x} is not vowel and {a} is odd')\n",
    "else:\n",
    "    print('zz')"
   ]
  },
  {
   "cell_type": "code",
   "execution_count": null,
   "id": "a6495c58",
   "metadata": {},
   "outputs": [],
   "source": []
  }
 ],
 "metadata": {
  "kernelspec": {
   "display_name": "Python 3 (ipykernel)",
   "language": "python",
   "name": "python3"
  },
  "language_info": {
   "codemirror_mode": {
    "name": "ipython",
    "version": 3
   },
   "file_extension": ".py",
   "mimetype": "text/x-python",
   "name": "python",
   "nbconvert_exporter": "python",
   "pygments_lexer": "ipython3",
   "version": "3.11.3"
  }
 },
 "nbformat": 4,
 "nbformat_minor": 5
}
